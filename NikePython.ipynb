{
 "cells": [
  {
   "cell_type": "code",
   "execution_count": 250,
   "metadata": {
    "collapsed": true,
    "jupyter": {
     "outputs_hidden": true
    }
   },
   "outputs": [
    {
     "ename": "AttributeError",
     "evalue": "ResultSet object has no attribute 'select'. You're probably treating a list of elements like a single element. Did you call find_all() when you meant to call find()?",
     "output_type": "error",
     "traceback": [
      "\u001b[0;31m---------------------------------------------------------------------------\u001b[0m",
      "\u001b[0;31mAttributeError\u001b[0m                            Traceback (most recent call last)",
      "\u001b[0;32m<ipython-input-250-a535e355baf9>\u001b[0m in \u001b[0;36m<module>\u001b[0;34m\u001b[0m\n\u001b[1;32m      7\u001b[0m \u001b[0mlists_money\u001b[0m\u001b[0;34m=\u001b[0m\u001b[0msource\u001b[0m\u001b[0;34m.\u001b[0m\u001b[0mfind_all\u001b[0m\u001b[0;34m(\u001b[0m\u001b[0;34m\"div\"\u001b[0m\u001b[0;34m,\u001b[0m\u001b[0mattrs\u001b[0m\u001b[0;34m=\u001b[0m\u001b[0;34m{\u001b[0m\u001b[0;34m\"class\"\u001b[0m\u001b[0;34m:\u001b[0m\u001b[0;34m\"product-price\"\u001b[0m\u001b[0;34m}\u001b[0m\u001b[0;34m)\u001b[0m\u001b[0;34m\u001b[0m\u001b[0;34m\u001b[0m\u001b[0m\n\u001b[1;32m      8\u001b[0m \u001b[0mlists_model\u001b[0m\u001b[0;34m=\u001b[0m\u001b[0msource\u001b[0m\u001b[0;34m.\u001b[0m\u001b[0mfind_all\u001b[0m\u001b[0;34m(\u001b[0m\u001b[0;34m\"div\"\u001b[0m\u001b[0;34m,\u001b[0m\u001b[0mattrs\u001b[0m\u001b[0;34m=\u001b[0m\u001b[0;34m{\u001b[0m\u001b[0;34m\"class\"\u001b[0m\u001b[0;34m:\u001b[0m\u001b[0;34m\"product-card__subtitle\"\u001b[0m\u001b[0;34m}\u001b[0m\u001b[0;34m)\u001b[0m\u001b[0;34m\u001b[0m\u001b[0;34m\u001b[0m\u001b[0m\n\u001b[0;32m----> 9\u001b[0;31m \u001b[0mlists_link\u001b[0m\u001b[0;34m=\u001b[0m\u001b[0msource\u001b[0m\u001b[0;34m.\u001b[0m\u001b[0mfind_all\u001b[0m\u001b[0;34m(\u001b[0m\u001b[0;34m\"a\"\u001b[0m\u001b[0;34m,\u001b[0m\u001b[0mattrs\u001b[0m\u001b[0;34m=\u001b[0m\u001b[0;34m{\u001b[0m\u001b[0;34m\"class\"\u001b[0m\u001b[0;34m:\u001b[0m\u001b[0;34m\"product-card__img-link-overlay\"\u001b[0m\u001b[0;34m}\u001b[0m\u001b[0;34m)\u001b[0m\u001b[0;34m.\u001b[0m\u001b[0mselect\u001b[0m\u001b[0;34m(\u001b[0m\u001b[0;34m\"href\"\u001b[0m\u001b[0;34m)\u001b[0m\u001b[0;34m\u001b[0m\u001b[0;34m\u001b[0m\u001b[0m\n\u001b[0m",
      "\u001b[0;32m/opt/anaconda3/lib/python3.7/site-packages/bs4/element.py\u001b[0m in \u001b[0;36m__getattr__\u001b[0;34m(self, key)\u001b[0m\n\u001b[1;32m   2079\u001b[0m         \u001b[0;34m\"\"\"Raise a helpful exception to explain a common code fix.\"\"\"\u001b[0m\u001b[0;34m\u001b[0m\u001b[0;34m\u001b[0m\u001b[0m\n\u001b[1;32m   2080\u001b[0m         raise AttributeError(\n\u001b[0;32m-> 2081\u001b[0;31m             \u001b[0;34m\"ResultSet object has no attribute '%s'. You're probably treating a list of elements like a single element. Did you call find_all() when you meant to call find()?\"\u001b[0m \u001b[0;34m%\u001b[0m \u001b[0mkey\u001b[0m\u001b[0;34m\u001b[0m\u001b[0;34m\u001b[0m\u001b[0m\n\u001b[0m\u001b[1;32m   2082\u001b[0m         )\n",
      "\u001b[0;31mAttributeError\u001b[0m: ResultSet object has no attribute 'select'. You're probably treating a list of elements like a single element. Did you call find_all() when you meant to call find()?"
     ]
    }
   ],
   "source": [
    "from bs4 import BeautifulSoup\n",
    "import requests\n",
    "import pandas as pd\n",
    "\n",
    "r = requests.get('https://www.nike.com/tr/w/erkek-179-giysiler-3f27bz6ymx6znik1?sort=priceAsc')\n",
    "source = BeautifulSoup(r.content,\"lxml\")\n",
    "lists_money=source.find_all(\"div\",attrs={\"class\":\"product-price\"}) \n",
    "lists_model=source.find_all(\"div\",attrs={\"class\":\"product-card__subtitle\"})\n",
    "lists_link=source.find_all(\"a\",attrs={\"class\":\"product-card__img-link-overlay\"}).select(\"href\")"
   ]
  },
  {
   "cell_type": "code",
   "execution_count": 123,
   "metadata": {
    "collapsed": true,
    "jupyter": {
     "outputs_hidden": true
    }
   },
   "outputs": [
    {
     "name": "stdout",
     "output_type": "stream",
     "text": [
      "'Çoraplar (3 Çift)''\n",
      "'Koşu Çorapları''\n",
      "'Futbol Çorapları''\n",
      "'Grafikli Crew Futbol Çorapları (2 Çift)''\n",
      "'Crew Koşu Çorapları''\n",
      "'Basketbol Çorapları''\n",
      "'Grafikli Crew Futbol Çorapları''\n",
      "'Crew Futbol Çorapları''\n",
      "'Over-The-Calf Futbol Çorapları''\n",
      "'Crew Çoraplar''\n",
      "'No-Show Antrenman Çorapları (3 Çift)''\n",
      "'No-Show Antrenman Çorapları (3 Çift)''\n",
      "'Crew Futbol Çorapları''\n",
      "'Koşu Çorapları''\n",
      "'Antrenman Bilek Çorapları (3 Çift)''\n",
      "'Bilek Çorapları (2 Çift)''\n",
      "'No-Show Koşu Çorapları''\n",
      "'Crew Çorap (2 Çift)''\n",
      "'No-Show Koşu Çorapları (2 Çift)''\n",
      "'Crew Futbol Çorapları''\n",
      "'Koşu Çorapları''\n",
      "'Crew Çoraplar''\n",
      "'No-Show Antrenman Çorapları (3 Çift)''\n",
      "'Bilek Koşu Çorapları''\n",
      "₺39,90\n",
      "₺39,90\n",
      "₺49,99\n",
      "₺59,90\n",
      "₺79,90\n",
      "₺79,90\n",
      "₺79,90\n",
      "₺79,90\n",
      "₺79,90\n",
      "₺89,90\n",
      "₺89,90\n",
      "₺89,90\n",
      "₺89,90\n",
      "₺99,90\n",
      "₺99,90\n",
      "₺99,90\n",
      "₺99,90\n",
      "₺99,90\n",
      "₺99,90\n",
      "₺99,90\n",
      "₺99,90\n",
      "₺99,90\n",
      "₺99,90\n",
      "₺99,90\n",
      "₺99,90\n",
      "https://www.nike.com/tr/t/sportswear-footie-çoraplar-3-çift-z3Tlm7Zg/SX6014-100\n",
      "https://www.nike.com/tr/t/elite-lightweight-quarter-koşu-çorapları-pz0kOE/SX4953-707\n",
      "https://www.nike.com/tr/t/2017-18-paris-saint-germain-stadium-home-away-third-otc-futbol-çorapları-2KTrGGWk/SX6033-010\n",
      "https://www.nike.com/tr/t/fc-grafikli-crew-futbol-çorapları-2-çift-89bHFB/CN1541-902\n",
      "https://www.nike.com/tr/t/multiplier-blue-ribbon-sports-crew-koşu-çorapları-0Nf5WP/CK0790-612\n",
      "https://www.nike.com/tr/t/elite-crew-basketbol-çorapları-fTWNqG/SX7622-657\n",
      "https://www.nike.com/tr/t/fc-barcelona-squad-grafikli-crew-futbol-çorapları-p9hGJx/CK3230-620\n",
      "https://www.nike.com/tr/t/paris-saint-germain-squad-crew-futbol-çorapları-p90crC/CK3221-100\n",
      "https://www.nike.com/tr/t/academy-over-the-calf-futbol-çorapları-wwdjrW/SX4120-101\n",
      "https://www.nike.com/tr/t/squad-crew-çoraplar-Nqc5Wv/SK0030-463\n",
      "https://www.nike.com/tr/t/everyday-cushioned-no-show-antrenman-çorapları-3-çift-khhl4W/SX7673-100\n",
      "https://www.nike.com/tr/t/everyday-lightweight-no-show-antrenman-çorapları-3-çift-StC3zw/SX7678-100\n",
      "https://www.nike.com/tr/t/paris-saint-germain-squad-crew-futbol-çorapları-Pq7SS8/CK3455-902\n",
      "https://www.nike.com/tr/t/elite-cushioned-ankle-koşu-çorapları-bBtz20/SX7281-100\n",
      "https://www.nike.com/tr/t/everyday-lightweight-antrenman-bilek-çorapları-3-çift-JmdmrC/SX7677-100\n",
      "https://www.nike.com/tr/t/multiplier-bilek-çorapları-2-çift-5xrsPm/SX7556-100\n",
      "https://www.nike.com/tr/t/spark-lightweight-no-show-koşu-çorapları-mr5Jdm/SK0052-376\n",
      "https://www.nike.com/tr/t/multiplier-crew-çorap-2-çift-B5Rwfr/SX7557-010\n",
      "https://www.nike.com/tr/t/multiplier-no-show-koşu-çorapları-2-çift-TMbNCm/SX7554-100\n",
      "https://www.nike.com/tr/t/squad-crew-futbol-çorapları-Wg03TP/CK6577-133\n",
      "https://www.nike.com/tr/t/elite-cushioned-no-show-koşu-çorapları-BCPx1H/SX7280-100\n",
      "https://www.nike.com/tr/t/snkr-sox-air-max-90-crew-çoraplar-0sDk8p/SK0005-010\n",
      "https://www.nike.com/tr/t/everyday-plus-cushioned-no-show-antrenman-çorapları-3-çift-jBXcgw/SX7840-010\n",
      "https://www.nike.com/tr/t/spark-lightweight-bilek-koşu-çorapları-fCWDSJ/SK0049-376\n"
     ]
    }
   ],
   "source": [
    "for s in lists_model:\n",
    "    print(\"'\"+s.text+\"''\")\n",
    "for s in lists_money:\n",
    "     print(s.text)\n"
   ]
  },
  {
   "cell_type": "code",
   "execution_count": 100,
   "metadata": {},
   "outputs": [
    {
     "data": {
      "text/plain": [
       "[]"
      ]
     },
     "execution_count": 100,
     "metadata": {},
     "output_type": "execute_result"
    }
   ],
   "source": [
    "source.find_all(string=[\"Nikes\"])#Arana değer var ise aynı değeri geri döndürür"
   ]
  },
  {
   "cell_type": "code",
   "execution_count": 227,
   "metadata": {},
   "outputs": [],
   "source": [
    "model=pd.Series(lists_model)\n",
    "fiyat=pd.Series(lists_money)\n",
    "\n",
    "df=pd.DataFrame(data=model,columns=['Model'])\n",
    "df['Fiyat']=fiyat\n",
    "df['Link']=link.get('href')\n",
    "mailIcerik=str(df)"
   ]
  },
  {
   "cell_type": "code",
   "execution_count": 254,
   "metadata": {},
   "outputs": [
    {
     "name": "stdout",
     "output_type": "stream",
     "text": [
      "Hata: <class 'NameError'>\n"
     ]
    }
   ],
   "source": [
    "import smtplib\n",
    "from email.mime.multipart import MIMEMultipart\n",
    "from email.mime.text import MIMEText\n",
    "import sys\n",
    "\n",
    "\n",
    "# Gmail email sunucusuna bağlanıyoruz\n",
    "try:\n",
    "    mail = smtplib.SMTP(\"smtp.gmail.com\",587)\n",
    "    mail.ehlo()\n",
    "    mail.starttls()\n",
    "    mail.login(\"sahinbolukbasii@gmail.com\", \"Samuraycek4423\")\n",
    "\n",
    "    mesaj = MIMEMultipart()\n",
    "    mesaj[\"From\"] = \"sahinbolukbasii@gmail.com\"           # Gönderen\n",
    "    mesaj[\"Subject\"] = \"Nike İndirimli Ürünler\"    # Konusu\n",
    "    mesaj[\"To\"] = \"shnblkbssss@gmail.com\"          # Alıcı\n",
    "    body_text = MIMEText(, \"plain\")  \n",
    "    mesaj.attach(body_text)\n",
    "\n",
    "    mail.sendmail(mesaj[\"From\"], mesaj[\"To\"], mesaj.as_string())\n",
    "    print(\"Mail başarılı bir şekilde gönderildi.\")\n",
    "    mail.close()\n",
    "\n",
    "# Eğer mesaj gönderirken hata olursa, hata mesajını konsole yazdırıyorum.\n",
    "except:\n",
    "    print(\"Hata:\", sys.exc_info()[0])"
   ]
  },
  {
   "cell_type": "code",
   "execution_count": 37,
   "metadata": {
    "collapsed": true,
    "jupyter": {
     "outputs_hidden": true
    }
   },
   "outputs": [
    {
     "name": "stdout",
     "output_type": "stream",
     "text": [
      "Tarih :Fri Oct  9 00:23:05 2020\n",
      "Saat:00:23:05\n",
      "------------------------\n",
      "00:23:05\n",
      "00:23:6\n",
      "00:23:7\n",
      "00:23:8\n",
      "00:23:9\n",
      "00:23:10\n",
      "00:23:11\n",
      "00:23:12\n",
      "00:23:13\n",
      "00:23:14\n",
      "00:23:15\n",
      "00:23:16\n",
      "00:23:17\n",
      "00:23:18\n",
      "00:23:19\n",
      "00:23:20\n",
      "00:23:21\n",
      "00:23:22\n",
      "00:23:23\n",
      "00:23:24\n",
      "00:23:25\n",
      "00:23:26\n",
      "00:23:27\n",
      "00:23:28\n",
      "00:23:29\n",
      "00:23:30\n",
      "00:23:31\n",
      "00:23:32\n",
      "00:23:33\n",
      "00:23:34\n",
      "00:23:35\n",
      "00:23:36\n",
      "00:23:37\n",
      "00:23:38\n",
      "00:23:39\n",
      "00:23:40\n",
      "00:23:41\n",
      "00:23:42\n"
     ]
    },
    {
     "ename": "KeyboardInterrupt",
     "evalue": "",
     "output_type": "error",
     "traceback": [
      "\u001b[0;31m---------------------------------------------------------------------------\u001b[0m",
      "\u001b[0;31mKeyboardInterrupt\u001b[0m                         Traceback (most recent call last)",
      "\u001b[0;32m<ipython-input-37-1b5bf8168403>\u001b[0m in \u001b[0;36m<module>\u001b[0;34m\u001b[0m\n\u001b[1;32m     10\u001b[0m \u001b[0;32mwhile\u001b[0m \u001b[0msaat\u001b[0m\u001b[0;34m!=\u001b[0m\u001b[0;36m0\u001b[0m\u001b[0;34m:\u001b[0m\u001b[0;34m\u001b[0m\u001b[0;34m\u001b[0m\u001b[0m\n\u001b[1;32m     11\u001b[0m     \u001b[0mprint\u001b[0m\u001b[0;34m(\u001b[0m\u001b[0msaat\u001b[0m\u001b[0;34m+\u001b[0m\u001b[0;34m\":\"\u001b[0m\u001b[0;34m+\u001b[0m\u001b[0mdakika\u001b[0m\u001b[0;34m+\u001b[0m\u001b[0;34m\":\"\u001b[0m\u001b[0;34m+\u001b[0m\u001b[0msaniye\u001b[0m\u001b[0;34m)\u001b[0m\u001b[0;34m\u001b[0m\u001b[0;34m\u001b[0m\u001b[0m\n\u001b[0;32m---> 12\u001b[0;31m     \u001b[0mtime\u001b[0m\u001b[0;34m.\u001b[0m\u001b[0msleep\u001b[0m\u001b[0;34m(\u001b[0m\u001b[0;36m1\u001b[0m\u001b[0;34m)\u001b[0m\u001b[0;34m\u001b[0m\u001b[0;34m\u001b[0m\u001b[0m\n\u001b[0m\u001b[1;32m     13\u001b[0m     \u001b[0msaniye\u001b[0m\u001b[0;34m=\u001b[0m\u001b[0mint\u001b[0m\u001b[0;34m(\u001b[0m\u001b[0msaniye\u001b[0m\u001b[0;34m)\u001b[0m\u001b[0;34m\u001b[0m\u001b[0;34m\u001b[0m\u001b[0m\n\u001b[1;32m     14\u001b[0m     \u001b[0msaniye\u001b[0m\u001b[0;34m+=\u001b[0m\u001b[0;36m1\u001b[0m\u001b[0;34m\u001b[0m\u001b[0;34m\u001b[0m\u001b[0m\n",
      "\u001b[0;31mKeyboardInterrupt\u001b[0m: "
     ]
    }
   ],
   "source": [
    "import time\n",
    "saat=time.strftime(\"%H\")\n",
    "dakika=time.strftime(\"%M\")\n",
    "saniye=time.strftime(\"%S\")\n",
    "süre=time.strftime(\"%H:%M:%S\")\n",
    "\n",
    "print(\"Tarih :\"+time.ctime())\n",
    "print(\"Saat :\"+süre)\n",
    "print(\"------------------------\")\n",
    "while saat!=0:\n",
    "    print(saat+\":\"+dakika+\":\"+saniye)\n",
    "    time.sleep(1)\n",
    "    saniye=int(saniye)\n",
    "    saniye+=1\n",
    "    saniye=str(saniye)\n"
   ]
  },
  {
   "cell_type": "code",
   "execution_count": 256,
   "metadata": {},
   "outputs": [
    {
     "name": "stdout",
     "output_type": "stream",
     "text": [
      "Mail başarılı bir şekilde gönderildi.\n"
     ]
    }
   ],
   "source": [
    "from bs4 import BeautifulSoup\n",
    "import requests\n",
    "import pandas as pd\n",
    "import smtplib\n",
    "from email.mime.multipart import MIMEMultipart\n",
    "from email.mime.text import MIMEText\n",
    "import sys\n",
    "import time\n",
    "finish=1\n",
    "sure=0\n",
    "while finish!=0:\n",
    "    time.sleep(60)\n",
    "    sure+=1  \n",
    "    if sure ==60:\n",
    "        try:\n",
    "            pageLink=\"https://www.nike.com/tr/w/erkek-179-giysiler-3f27bz6ymx6znik1?sort=priceAsc\"\n",
    "            r = requests.get(pageLink)\n",
    "            source = BeautifulSoup(r.content,\"lxml\")\n",
    "            lists_money=source.find_all(\"div\",attrs={\"class\":\"product-price\"}) \n",
    "            lists_model=source.find_all(\"div\",attrs={\"class\":\"product-card__subtitle\"})\n",
    "            print(\"Veriler başarılı bir şekilde çekildi.\")\n",
    "            model=pd.Series(lists_model)\n",
    "            fiyat=pd.Series(lists_money)\n",
    "            df=pd.DataFrame(data=model,columns=['Model'])\n",
    "            df['Fiyat']=fiyat\n",
    "            mailIcerik=str(df)\n",
    "        except:\n",
    "            print(\"Hata:\", sys.exc_info()[0])\n",
    "            sure=60\n",
    "            \n",
    "        try:\n",
    "            mail = smtplib.SMTP(\"smtp.gmail.com\",587)\n",
    "            mail.ehlo()\n",
    "            mail.starttls()\n",
    "            mail.login(\"sahinbolukbasii@gmail.com\", \"**\")\n",
    "\n",
    "            mesaj = MIMEMultipart()\n",
    "            mesaj[\"From\"] = \"sahinbolukbasii@gmail.com\"           # Gönderen\n",
    "            mesaj[\"Subject\"] = \"Nike İndirimli Ürünler\"    # Konusu\n",
    "            mesaj[\"To\"] = \"shnblkbssss@gmail.com\"          # Alıcı\n",
    "            body_text = MIMEText(mailIcerik, \"plain\")  \n",
    "            mesaj.attach(body_text)\n",
    "\n",
    "            mail.sendmail(mesaj[\"From\"], mesaj[\"To\"], mesaj.as_string())\n",
    "            print(\"Mail başarılı bir şekilde gönderildi.\")\n",
    "            mail.close()\n",
    "            sure=0      \n",
    "        except:\n",
    "            print(\"Hata:\", sys.exc_info()[0])\n",
    "            sure=60"
   ]
  },
  {
   "cell_type": "code",
   "execution_count": null,
   "metadata": {},
   "outputs": [],
   "source": []
  }
 ],
 "metadata": {
  "kernelspec": {
   "display_name": "Python 3",
   "language": "python",
   "name": "python3"
  },
  "language_info": {
   "codemirror_mode": {
    "name": "ipython",
    "version": 3
   },
   "file_extension": ".py",
   "mimetype": "text/x-python",
   "name": "python",
   "nbconvert_exporter": "python",
   "pygments_lexer": "ipython3",
   "version": "3.7.6"
  }
 },
 "nbformat": 4,
 "nbformat_minor": 4
}
